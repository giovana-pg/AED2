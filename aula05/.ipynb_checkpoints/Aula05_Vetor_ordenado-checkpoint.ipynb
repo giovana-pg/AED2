{
 "cells": [
  {
   "cell_type": "markdown",
   "metadata": {},
   "source": [
    "![Algoritmos e Estrutura de Dados II - Prof Piva](AED2_banner.jpg)"
   ]
  },
  {
   "cell_type": "markdown",
   "metadata": {
    "id": "3L3hMZxPloS9"
   },
   "source": [
    "## Aula 5 - Vetor ordenado (busca binária)"
   ]
  },
  {
   "cell_type": "markdown",
   "metadata": {},
   "source": [
    "### Primeira Implementação (sem OO)"
   ]
  },
  {
   "cell_type": "markdown",
   "metadata": {},
   "source": [
    "Problema: buscar um valor v em uma lista sequencial ordenada com N elementos\n",
    "\n",
    "- o tempo de busca pode ser reduzido significantemente devido a relação entre os elementos da lista\n",
    "- mesmo para um conjunto de elementos é grande"
   ]
  },
  {
   "cell_type": "code",
   "execution_count": 1,
   "metadata": {},
   "outputs": [],
   "source": [
    "def busca_binaria(v, lista_ord):\n",
    "    esquerda = 0\n",
    "    direita = len(lista_ord) - 1\n",
    "    while esquerda <= direita:\n",
    "        meio = (esquerda + direita) // 2\n",
    "        if v == lista_ord[meio]:\n",
    "            return meio\n",
    "        elif v < lista_ord[meio]:\n",
    "            direita = meio - 1\n",
    "        else:\n",
    "            esquerda = meio + 1\n",
    "    return -1"
   ]
  },
  {
   "cell_type": "code",
   "execution_count": 2,
   "metadata": {},
   "outputs": [
    {
     "name": "stdout",
     "output_type": "stream",
     "text": [
      "O valor 7 foi encontrado na posição 6 !\n"
     ]
    }
   ],
   "source": [
    "# TESTANDO\n",
    "lista = [1, 2, 3, 4, 5, 6, 7, 8, 9, 10, 11, 12, 13]\n",
    "i = busca_binaria(7, lista)\n",
    "if i != -1:\n",
    "    print(f\"O valor {lista[i]} foi encontrado na posição {i} !\")\n",
    "else:\n",
    "    print(\"O valor não foi encontrado!\")"
   ]
  },
  {
   "cell_type": "code",
   "execution_count": 3,
   "metadata": {},
   "outputs": [
    {
     "name": "stdout",
     "output_type": "stream",
     "text": [
      "-1\n"
     ]
    }
   ],
   "source": [
    "i = busca_binaria(20, lista)\n",
    "print(i)"
   ]
  },
  {
   "cell_type": "code",
   "execution_count": 4,
   "metadata": {},
   "outputs": [
    {
     "name": "stdout",
     "output_type": "stream",
     "text": [
      "O valor não foi encontrado!\n"
     ]
    }
   ],
   "source": [
    "# TESTANDO\n",
    "lista = [1, 2, 3, 4, 5, 6, 7, 8, 9, 10, 11, 12, 13]\n",
    "i = busca_binaria(27, lista)\n",
    "if i != -1:\n",
    "    print(f\"O valor {lista[i]} foi encontrado na posição {i} !\")\n",
    "else:\n",
    "    print(\"O valor não foi encontrado!\")"
   ]
  },
  {
   "cell_type": "markdown",
   "metadata": {},
   "source": [
    "### Segunda Implementação (com OO)"
   ]
  },
  {
   "cell_type": "code",
   "execution_count": 5,
   "metadata": {
    "id": "ilKOzbksUosx"
   },
   "outputs": [],
   "source": [
    "import numpy as np"
   ]
  },
  {
   "cell_type": "code",
   "execution_count": 6,
   "metadata": {
    "id": "EI9-ginDUr7z"
   },
   "outputs": [],
   "source": [
    "class VetorOrdenado:\n",
    "\n",
    "  def __init__(self, capacidade):\n",
    "    self.capacidade = capacidade\n",
    "    self.ultima_posicao = -1\n",
    "    self.valores = np.empty(self.capacidade, dtype=int)\n",
    "\n",
    "  # O(n)\n",
    "  def imprime(self):\n",
    "    if self.ultima_posicao == -1:\n",
    "      print('O vetor está vazio')\n",
    "    else:\n",
    "      for i in range(self.ultima_posicao + 1):\n",
    "        print(i, ' - ', self.valores[i])\n",
    "\n",
    "  # O(n)\n",
    "  def insere(self, valor):\n",
    "    if self.ultima_posicao == self.capacidade - 1:\n",
    "      print('Capacidade máxima atingida')\n",
    "      return\n",
    "\n",
    "    posicao = 0\n",
    "    for i in range(self.ultima_posicao + 1):\n",
    "      posicao = i\n",
    "      if self.valores[i] > valor:\n",
    "        break\n",
    "      if i == self.ultima_posicao:\n",
    "        posicao = i + 1\n",
    "\n",
    "    x = self.ultima_posicao\n",
    "    while x >= posicao:\n",
    "      self.valores[x + 1] = self.valores[x]\n",
    "      x -= 1\n",
    "\n",
    "    self.valores[posicao] = valor\n",
    "    self.ultima_posicao += 1\n",
    "\n",
    "  # O(n**2)\n",
    "  def insere_lista(self, lista):\n",
    "      for i in range(len(lista)-1):\n",
    "          self.insere(lista[i])"
   ]
  },
  {
   "cell_type": "code",
   "execution_count": 7,
   "metadata": {
    "colab": {
     "base_uri": "https://localhost:8080/",
     "height": 55
    },
    "id": "stsNs_K8nn4r",
    "outputId": "0cceb095-520f-43ac-b7d6-a75bfbfd6c03"
   },
   "outputs": [
    {
     "name": "stdout",
     "output_type": "stream",
     "text": [
      "O vetor está vazio\n"
     ]
    }
   ],
   "source": [
    "vetor = VetorOrdenado(100)\n",
    "vetor.imprime()"
   ]
  },
  {
   "cell_type": "code",
   "execution_count": 8,
   "metadata": {
    "colab": {
     "base_uri": "https://localhost:8080/",
     "height": 55
    },
    "id": "6OQR86hMnr74",
    "outputId": "24a67306-41ea-43cb-cb91-c2325a9eccef"
   },
   "outputs": [
    {
     "name": "stdout",
     "output_type": "stream",
     "text": [
      "0  -  6\n"
     ]
    }
   ],
   "source": [
    "vetor.insere(6)\n",
    "vetor.imprime()"
   ]
  },
  {
   "cell_type": "code",
   "execution_count": 9,
   "metadata": {},
   "outputs": [
    {
     "name": "stdout",
     "output_type": "stream",
     "text": [
      "0  -  1\n",
      "1  -  5\n",
      "2  -  6\n",
      "3  -  6\n",
      "4  -  6\n",
      "5  -  8\n",
      "6  -  12\n",
      "7  -  13\n",
      "8  -  45\n"
     ]
    }
   ],
   "source": [
    " l = [1,6,12,13,6,5,8,45,90]\n",
    "vetor.insere_lista(l)\n",
    "vetor.imprime()"
   ]
  },
  {
   "cell_type": "code",
   "execution_count": 10,
   "metadata": {
    "colab": {
     "base_uri": "https://localhost:8080/",
     "height": 72
    },
    "id": "2SD9iJjrnzpB",
    "outputId": "90c4d2d2-0890-4c55-81a6-fa6f285fbf6e"
   },
   "outputs": [
    {
     "name": "stdout",
     "output_type": "stream",
     "text": [
      "0  -  1\n",
      "1  -  4\n",
      "2  -  5\n",
      "3  -  6\n",
      "4  -  6\n",
      "5  -  6\n",
      "6  -  8\n",
      "7  -  12\n",
      "8  -  13\n",
      "9  -  45\n"
     ]
    }
   ],
   "source": [
    "vetor.insere(4)\n",
    "vetor.imprime()"
   ]
  },
  {
   "cell_type": "code",
   "execution_count": 11,
   "metadata": {
    "colab": {
     "base_uri": "https://localhost:8080/",
     "height": 90
    },
    "id": "UZiJuluyn4iq",
    "outputId": "a1139beb-1972-4002-8271-423437eb14f0"
   },
   "outputs": [
    {
     "name": "stdout",
     "output_type": "stream",
     "text": [
      "0  -  1\n",
      "1  -  3\n",
      "2  -  4\n",
      "3  -  5\n",
      "4  -  6\n",
      "5  -  6\n",
      "6  -  6\n",
      "7  -  8\n",
      "8  -  12\n",
      "9  -  13\n",
      "10  -  45\n"
     ]
    }
   ],
   "source": [
    "vetor.insere(3)\n",
    "vetor.imprime()"
   ]
  },
  {
   "cell_type": "code",
   "execution_count": 12,
   "metadata": {
    "colab": {
     "base_uri": "https://localhost:8080/",
     "height": 108
    },
    "id": "-EtyqP3ln--6",
    "outputId": "f144630e-aefb-4e49-f7d3-b216acb9d6ad"
   },
   "outputs": [
    {
     "name": "stdout",
     "output_type": "stream",
     "text": [
      "0  -  1\n",
      "1  -  3\n",
      "2  -  4\n",
      "3  -  5\n",
      "4  -  5\n",
      "5  -  6\n",
      "6  -  6\n",
      "7  -  6\n",
      "8  -  8\n",
      "9  -  12\n",
      "10  -  13\n",
      "11  -  45\n"
     ]
    }
   ],
   "source": [
    "vetor.insere(5)\n",
    "vetor.imprime()"
   ]
  },
  {
   "cell_type": "code",
   "execution_count": 13,
   "metadata": {
    "colab": {
     "base_uri": "https://localhost:8080/",
     "height": 125
    },
    "id": "Ij44GQWRoE8-",
    "outputId": "1afbfa5b-7a32-4695-db4b-a95890504ba3"
   },
   "outputs": [
    {
     "name": "stdout",
     "output_type": "stream",
     "text": [
      "0  -  1\n",
      "1  -  1\n",
      "2  -  3\n",
      "3  -  4\n",
      "4  -  5\n",
      "5  -  5\n",
      "6  -  6\n",
      "7  -  6\n",
      "8  -  6\n",
      "9  -  8\n",
      "10  -  12\n",
      "11  -  13\n",
      "12  -  45\n"
     ]
    }
   ],
   "source": [
    "vetor.insere(1)\n",
    "vetor.imprime()"
   ]
  },
  {
   "cell_type": "code",
   "execution_count": 14,
   "metadata": {
    "colab": {
     "base_uri": "https://localhost:8080/",
     "height": 143
    },
    "id": "PHQuMp8aoKX3",
    "outputId": "70c5c040-7c42-4fa8-8cba-92793d0e7296"
   },
   "outputs": [
    {
     "name": "stdout",
     "output_type": "stream",
     "text": [
      "0  -  1\n",
      "1  -  1\n",
      "2  -  3\n",
      "3  -  4\n",
      "4  -  5\n",
      "5  -  5\n",
      "6  -  6\n",
      "7  -  6\n",
      "8  -  6\n",
      "9  -  8\n",
      "10  -  8\n",
      "11  -  12\n",
      "12  -  13\n",
      "13  -  45\n"
     ]
    }
   ],
   "source": [
    "vetor.insere(8)\n",
    "vetor.imprime()"
   ]
  },
  {
   "cell_type": "markdown",
   "metadata": {},
   "source": [
    "Exercício de fixação\n",
    "\n",
    "1 - Peça para o usuário digitar os valores inteiros.\n",
    "2 - Os valores devem ser guardados em uma lista/vetor.\n",
    "3 - Ordene esa lista utilizando a função sort().\n",
    "4 - Pergunte ao usuário qual valor ele quer procurar (use a função busca_binaria). Retorne a posição do valor se encontrado ou -1 caso não tenha encontrado."
   ]
  },
  {
   "cell_type": "code",
   "execution_count": 15,
   "metadata": {},
   "outputs": [
    {
     "name": "stdout",
     "output_type": "stream",
     "text": [
      "Digite os valores inteiros abaixo e não repetidos. Use -1 para finalizar o processo.\n"
     ]
    },
    {
     "name": "stdin",
     "output_type": "stream",
     "text": [
      "Valor[0] =  1\n",
      "Valor[1] =  2\n",
      "Valor[2] =  3\n",
      "Valor[3] =  4\n",
      "Valor[4] =  5\n",
      "Valor[5] =  45\n",
      "Valor[6] =  67\n",
      "Valor[7] =  32\n",
      "Valor[8] =  45\n",
      "Valor[9] =  65\n",
      "Valor[10] =  342\n",
      "Valor[11] =  789\n",
      "Valor[12] =  45\n",
      "Valor[13] =  67\n",
      "Valor[14] =  68\n",
      "Valor[15] =  3\n",
      "Valor[16] =  45\n",
      "Valor[17] =  -1\n"
     ]
    }
   ],
   "source": [
    "# Peça para o usuário digitar os valores inteiros que ele deseja, guarde os valores em uma lista.\n",
    "# Para parar, ele deve digitar -1\n",
    "\n",
    "vetor = []\n",
    "\n",
    "print(\"Digite os valores inteiros abaixo e não repetidos. Use -1 para finalizar o processo.\")\n",
    "i = 0\n",
    "while (True):\n",
    "    v = int(input(f\"Valor[{i}] = \"))\n",
    "    if v == -1:\n",
    "        break\n",
    "    else:\n",
    "        vetor.append(v)\n",
    "        i += 1"
   ]
  },
  {
   "cell_type": "code",
   "execution_count": 16,
   "metadata": {},
   "outputs": [
    {
     "name": "stdout",
     "output_type": "stream",
     "text": [
      "[1, 2, 3, 3, 4, 5, 32, 45, 45, 45, 45, 65, 67, 67, 68, 342, 789]\n"
     ]
    }
   ],
   "source": [
    "# Ordene essa lista utilizando a função sort()\n",
    "\n",
    "vetor.sort()\n",
    "print(vetor)\n"
   ]
  },
  {
   "cell_type": "code",
   "execution_count": 17,
   "metadata": {},
   "outputs": [
    {
     "name": "stdin",
     "output_type": "stream",
     "text": [
      "Digite o valor de busca:  32\n"
     ]
    },
    {
     "name": "stdout",
     "output_type": "stream",
     "text": [
      "O valor 32 foi encontrado e está na posição 6!\n"
     ]
    }
   ],
   "source": [
    "# Pergunte ao usuário o valor que quer buscar utilizando a função busca_binaria(). \n",
    "# Diga a ela se encontrou e sua posição ou que o valor não foi encontrado.\n",
    "\n",
    "valor = int(input(\"Digite o valor de busca: \"))\n",
    "indice = busca_binaria(valor, vetor)\n",
    "\n",
    "if indice == -1:\n",
    "    print(\"Valor não encontrado!\")\n",
    "\n",
    "else:\n",
    "    print(f\"O valor {valor} foi encontrado e está na posição {indice}!\")\n"
   ]
  },
  {
   "cell_type": "markdown",
   "metadata": {},
   "source": [
    "## Fim Aula 5"
   ]
  }
 ],
 "metadata": {
  "colab": {
   "provenance": []
  },
  "kernelspec": {
   "display_name": "Python 3 (ipykernel)",
   "language": "python",
   "name": "python3"
  },
  "language_info": {
   "codemirror_mode": {
    "name": "ipython",
    "version": 3
   },
   "file_extension": ".py",
   "mimetype": "text/x-python",
   "name": "python",
   "nbconvert_exporter": "python",
   "pygments_lexer": "ipython3",
   "version": "3.12.4"
  }
 },
 "nbformat": 4,
 "nbformat_minor": 4
}
