{
 "cells": [
  {
   "cell_type": "markdown",
   "id": "a949f0a6-77c5-4a50-b803-415b2acbaef5",
   "metadata": {},
   "source": [
    "Exercício de fixação - Stack (Pilha)"
   ]
  },
  {
   "cell_type": "code",
   "execution_count": 2,
   "id": "e8d01265-0ff3-4783-9fe2-9329fc058f9c",
   "metadata": {},
   "outputs": [],
   "source": [
    "# Implementacao da classe Pilha\n",
    "class Stack:\n",
    "    # Inicia com uma pilha vazia\n",
    "    def __init__(self):\n",
    "        self.itens = []\n",
    "    \n",
    "    # Verifica se pilha esta vazia\n",
    "    def is_empty(self):\n",
    "        return self.itens == []\n",
    "    \n",
    "    # Adiciona elemento no topo (topo e o final da lista)\n",
    "    def push(self, item):\n",
    "        self.itens.append(item)\n",
    "        print(f\"PUSH {item}\")\n",
    "\n",
    "    # Remove elemento do topo (final da lista)\n",
    "    def pop(self):\n",
    "        print(\"POP\")\n",
    "        return self.itens.pop()\n",
    "    \n",
    "    # Obtem o elemento do topo (mas nao remove)\n",
    "    def peek(self):\n",
    "    # Em Python, indice -1 retorna ultimo elemento (topo)\n",
    "        return self.itens[-1]\n",
    "    \n",
    "    # Retorna o numero de elementos da pilha\n",
    "    def size(self):\n",
    "        return len(self.itens)\n",
    "    \n",
    "    # Imprime pilha na tela\n",
    "    def print_stack(self):\n",
    "        print(self.itens)"
   ]
  },
  {
   "cell_type": "markdown",
   "id": "47d912e6-3182-4d71-81a0-9b3fc69b5e2a",
   "metadata": {},
   "source": [
    "Faça a conversão de decimal para binário:\n",
    "\n",
    "Converter 233 em Binário = 11101001\n",
    "Converter 432 em Binário = 110110000 "
   ]
  },
  {
   "cell_type": "code",
   "execution_count": 6,
   "id": "f63f0e00-27c2-4a1f-b6be-1d531d76246b",
   "metadata": {},
   "outputs": [],
   "source": [
    "#Criar um método\n",
    "\n",
    "def decimal2binario(decimal):\n",
    "    p = Stack()\n",
    "\n",
    "    while decimal > 0:\n",
    "        resto = decimal % 2\n",
    "        p.push(resto)\n",
    "        quociente = decimal // 2\n",
    "        decimal = quociente\n",
    "    \n",
    "    binario = ''\n",
    "    while not p.is_empty():\n",
    "        binario = binario + str(p.pop())\n",
    "    return binario\n"
   ]
  },
  {
   "cell_type": "code",
   "execution_count": 7,
   "id": "066d778d-a82e-418e-905a-b9ed378985b2",
   "metadata": {},
   "outputs": [
    {
     "name": "stdin",
     "output_type": "stream",
     "text": [
      "Digite o valor decimal:   233\n"
     ]
    },
    {
     "name": "stdout",
     "output_type": "stream",
     "text": [
      "PUSH 1\n",
      "PUSH 0\n",
      "PUSH 0\n",
      "PUSH 1\n",
      "PUSH 0\n",
      "PUSH 1\n",
      "PUSH 1\n",
      "PUSH 1\n",
      "POP\n",
      "POP\n",
      "POP\n",
      "POP\n",
      "POP\n",
      "POP\n",
      "POP\n",
      "POP\n",
      "O valor 233 decimal em binário é igual a 11101001\n"
     ]
    }
   ],
   "source": [
    "valor = int(input(\"Digite o valor decimal:  \"))\n",
    "print(f'O valor {valor} decimal em binário é igual a {decimal2binario(valor)}')"
   ]
  },
  {
   "cell_type": "code",
   "execution_count": 8,
   "id": "4112e729-f544-4ec1-a9df-1b7de84d4ab8",
   "metadata": {},
   "outputs": [
    {
     "name": "stdin",
     "output_type": "stream",
     "text": [
      "Digite o valor decimal:   432\n"
     ]
    },
    {
     "name": "stdout",
     "output_type": "stream",
     "text": [
      "PUSH 0\n",
      "PUSH 0\n",
      "PUSH 0\n",
      "PUSH 0\n",
      "PUSH 1\n",
      "PUSH 1\n",
      "PUSH 0\n",
      "PUSH 1\n",
      "PUSH 1\n",
      "POP\n",
      "POP\n",
      "POP\n",
      "POP\n",
      "POP\n",
      "POP\n",
      "POP\n",
      "POP\n",
      "POP\n",
      "O valor 432 decimal em binário é igual a 110110000\n"
     ]
    }
   ],
   "source": [
    "valor = int(input(\"Digite o valor decimal:  \"))\n",
    "print(f'O valor {valor} decimal em binário é igual a {decimal2binario(valor)}')"
   ]
  }
 ],
 "metadata": {
  "kernelspec": {
   "display_name": "Python 3 (ipykernel)",
   "language": "python",
   "name": "python3"
  },
  "language_info": {
   "codemirror_mode": {
    "name": "ipython",
    "version": 3
   },
   "file_extension": ".py",
   "mimetype": "text/x-python",
   "name": "python",
   "nbconvert_exporter": "python",
   "pygments_lexer": "ipython3",
   "version": "3.12.4"
  }
 },
 "nbformat": 4,
 "nbformat_minor": 5
}
